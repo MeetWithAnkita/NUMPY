{
 "cells": [
  {
   "cell_type": "code",
   "execution_count": 2,
   "id": "6018b485",
   "metadata": {},
   "outputs": [],
   "source": [
    "import numpy as np"
   ]
  },
  {
   "cell_type": "code",
   "execution_count": 6,
   "id": "f270d1fa",
   "metadata": {},
   "outputs": [
    {
     "name": "stdout",
     "output_type": "stream",
     "text": [
      "[ 2  8 18 32 50 72 98]\n",
      "280\n",
      "280\n"
     ]
    }
   ],
   "source": [
    "a =  np.array([1, 2, 3, 4, 5,6,7])\n",
    "b = np.array([2,4,6,8,10,12,14])\n",
    "c = a * b \n",
    "d = a @ b\n",
    "e = np.dot(a,b)\n",
    "# dot product (sum of element-wise multiplies)\n",
    "print(c)\n",
    "print(d)\n",
    "print(e)"
   ]
  },
  {
   "cell_type": "code",
   "execution_count": 5,
   "id": "b6912c1e",
   "metadata": {},
   "outputs": [
    {
     "name": "stdout",
     "output_type": "stream",
     "text": [
      "\n",
      "Printing array a..\n",
      "[[ 1  2  3  4]\n",
      " [ 2  4  5  6]\n",
      " [10 20 39  3]]\n",
      "\n",
      "Printing array b..\n",
      "[2 4 6 8]\n",
      "\n",
      "Printing a+b..\n",
      "[[ 3  6  9 12]\n",
      " [ 4  8 11 14]\n",
      " [12 24 45 11]]\n"
     ]
    }
   ],
   "source": [
    "a = np.array([[1,2,3,4],[2,4,5,6],[10,20,39,3]])\n",
    "b =np.array([2,4,6,8])\n",
    "print(\"\\nPrinting array a..\")\n",
    "print(a)\n",
    "print(\"\\nPrinting array b..\")\n",
    "print(b)\n",
    "print(\"\\nPrinting a+b..\")\n",
    "print(a+b)\n"
   ]
  },
  {
   "cell_type": "markdown",
   "id": "d1d5733f",
   "metadata": {},
   "source": [
    "Iteration"
   ]
  },
  {
   "cell_type": "code",
   "execution_count": 7,
   "id": "a5a41d6b",
   "metadata": {},
   "outputs": [
    {
     "name": "stdout",
     "output_type": "stream",
     "text": [
      "Printing array:\n",
      "  [[ 1  2  3  4]\n",
      " [ 2  4  5  6]\n",
      " [10 20 39  3]]\n",
      "\n",
      "Iterating over rows..\n",
      "1, 2, 3, 4, 2, 4, 5, 6, 10, 20, 39, 3, "
     ]
    }
   ],
   "source": [
    "a = np.array([[1,2,3,4],[2,4,5,6],[10,20,39,3]])\n",
    "print(\"Printing array:\\n \",a)\n",
    "print(\"\\nIterating over rows..\")\n",
    "for x in np.nditer(a):\n",
    "    print(x,end=\", \")"
   ]
  },
  {
   "cell_type": "markdown",
   "id": "4081a8c9",
   "metadata": {},
   "source": []
  },
  {
   "cell_type": "markdown",
   "id": "b0b67f86",
   "metadata": {},
   "source": [
    "3-D Array"
   ]
  },
  {
   "cell_type": "code",
   "execution_count": null,
   "id": "ec93ed06",
   "metadata": {},
   "outputs": [],
   "source": []
  }
 ],
 "metadata": {
  "kernelspec": {
   "display_name": "base",
   "language": "python",
   "name": "python3"
  },
  "language_info": {
   "codemirror_mode": {
    "name": "ipython",
    "version": 3
   },
   "file_extension": ".py",
   "mimetype": "text/x-python",
   "name": "python",
   "nbconvert_exporter": "python",
   "pygments_lexer": "ipython3",
   "version": "3.9.13"
  }
 },
 "nbformat": 4,
 "nbformat_minor": 5
}
